{
  "nbformat": 4,
  "nbformat_minor": 0,
  "metadata": {
    "colab": {
      "name": "text_summarization_bert.ipynb",
      "provenance": [],
      "authorship_tag": "ABX9TyPGv5WNyS6G47Fuayxz7g6M"
    },
    "kernelspec": {
      "name": "python3",
      "display_name": "Python 3"
    },
    "accelerator": "GPU"
  },
  "cells": [
    {
      "cell_type": "code",
      "metadata": {
        "id": "8lDfEcYdP2L1"
      },
      "source": [
        "!pip install transformers -q"
      ],
      "execution_count": 44,
      "outputs": []
    },
    {
      "cell_type": "code",
      "metadata": {
        "id": "oanITCNMQtlY"
      },
      "source": [
        "import pandas as pd\n",
        "import numpy as np\n",
        "\n",
        "import torch\n",
        "import torch.nn as nn\n",
        "from torch.utils.data import Dataset, DataLoader\n",
        "\n",
        "from transformers import BertTokenizer, BertGenerationEncoder, BertGenerationDecoder, EncoderDecoderModel"
      ],
      "execution_count": 45,
      "outputs": []
    },
    {
      "cell_type": "code",
      "metadata": {
        "id": "QN7Mg9KrMwzY"
      },
      "source": [
        "device = torch.device(\"cuda\" if torch.cuda.is_available() else \"cpu\")"
      ],
      "execution_count": 46,
      "outputs": []
    },
    {
      "cell_type": "code",
      "metadata": {
        "colab": {
          "base_uri": "https://localhost:8080/",
          "height": 142
        },
        "id": "GBhZzoI6Qw3j",
        "outputId": "1fcc045f-e072-4c1a-b989-bbab37942822"
      },
      "source": [
        "df = pd.read_csv(\"news_summary.csv\", encoding=\"latin-1\")\n",
        "df = df[[\"text\", \"ctext\"]]\n",
        "df.ctext = \"summarize: \" + df.ctext\n",
        "df.head(3)"
      ],
      "execution_count": 47,
      "outputs": [
        {
          "output_type": "execute_result",
          "data": {
            "text/html": [
              "<div>\n",
              "<style scoped>\n",
              "    .dataframe tbody tr th:only-of-type {\n",
              "        vertical-align: middle;\n",
              "    }\n",
              "\n",
              "    .dataframe tbody tr th {\n",
              "        vertical-align: top;\n",
              "    }\n",
              "\n",
              "    .dataframe thead th {\n",
              "        text-align: right;\n",
              "    }\n",
              "</style>\n",
              "<table border=\"1\" class=\"dataframe\">\n",
              "  <thead>\n",
              "    <tr style=\"text-align: right;\">\n",
              "      <th></th>\n",
              "      <th>text</th>\n",
              "      <th>ctext</th>\n",
              "    </tr>\n",
              "  </thead>\n",
              "  <tbody>\n",
              "    <tr>\n",
              "      <th>0</th>\n",
              "      <td>The Administration of Union Territory Daman an...</td>\n",
              "      <td>summarize: The Daman and Diu administration on...</td>\n",
              "    </tr>\n",
              "    <tr>\n",
              "      <th>1</th>\n",
              "      <td>Malaika Arora slammed an Instagram user who tr...</td>\n",
              "      <td>summarize: From her special numbers to TV?appe...</td>\n",
              "    </tr>\n",
              "    <tr>\n",
              "      <th>2</th>\n",
              "      <td>The Indira Gandhi Institute of Medical Science...</td>\n",
              "      <td>summarize: The Indira Gandhi Institute of Medi...</td>\n",
              "    </tr>\n",
              "  </tbody>\n",
              "</table>\n",
              "</div>"
            ],
            "text/plain": [
              "                                                text                                              ctext\n",
              "0  The Administration of Union Territory Daman an...  summarize: The Daman and Diu administration on...\n",
              "1  Malaika Arora slammed an Instagram user who tr...  summarize: From her special numbers to TV?appe...\n",
              "2  The Indira Gandhi Institute of Medical Science...  summarize: The Indira Gandhi Institute of Medi..."
            ]
          },
          "metadata": {
            "tags": []
          },
          "execution_count": 47
        }
      ]
    },
    {
      "cell_type": "code",
      "metadata": {
        "id": "UqKiTOB9Qw9F"
      },
      "source": [
        "MAX_LEN = 512\n",
        "SUMMARY_LEN = 150 \n",
        "TRAIN_BATCH_SIZE = 2\n",
        "VALID_BATCH_SIZE = 2\n",
        "TRAIN_EPOCHS = 2\n",
        "VAL_EPOCHS = 1 \n",
        "LEARNING_RATE = 1e-4\n",
        "SEED = 42\n",
        "\n",
        "torch.manual_seed(SEED)\n",
        "\n",
        "tokenizer = BertTokenizer.from_pretrained(\"bert-base-uncased\")  "
      ],
      "execution_count": 48,
      "outputs": []
    },
    {
      "cell_type": "code",
      "metadata": {
        "id": "aUhbIWp0B5Og"
      },
      "source": [
        "class CustomDataset(Dataset):\n",
        "    def __init__(\n",
        "        self, \n",
        "        dataframe, \n",
        "        tokenizer, \n",
        "        source_len, \n",
        "        summ_len\n",
        "    ):\n",
        "        self.data = dataframe\n",
        "        self.tokenizer = tokenizer\n",
        "        self.source_len = source_len\n",
        "        self.summ_len = summ_len\n",
        "        self.text = self.data.text\n",
        "        self.ctext = self.data.ctext\n",
        "        \n",
        "    def __len__(self):\n",
        "        return len(self.text)\n",
        "        \n",
        "    def __getitem__(self, index):\n",
        "        ctext = str(self.ctext[index])\n",
        "        ctext = ' '.join(ctext.split())\n",
        "\n",
        "        text = str(self.text[index])\n",
        "        text = ' '.join(text.split())\n",
        "\n",
        "        source = self.tokenizer.batch_encode_plus(\n",
        "            [ctext], \n",
        "            max_length=self.source_len, \n",
        "            pad_to_max_length=True,\n",
        "            return_tensors=\"pt\",\n",
        "            truncation=True,\n",
        "        )\n",
        "        target = self.tokenizer.batch_encode_plus(\n",
        "            [text], \n",
        "            max_length=self.summ_len, \n",
        "            pad_to_max_length=True,\n",
        "            return_tensors=\"pt\",\n",
        "            truncation=True,\n",
        "        )\n",
        "\n",
        "        source_ids = source[\"input_ids\"].squeeze()\n",
        "        source_mask = source[\"attention_mask\"].squeeze()\n",
        "        target_ids = target[\"input_ids\"].squeeze()\n",
        "        target_mask = target[\"attention_mask\"].squeeze()\n",
        "\n",
        "        return {\n",
        "            \"source_ids\": source_ids.to(dtype=torch.long), \n",
        "            \"source_mask\": source_mask.to(dtype=torch.long), \n",
        "            \"target_ids\": target_ids.to(dtype=torch.long),\n",
        "            \"target_ids_y\": target_ids.to(dtype=torch.long)\n",
        "        }"
      ],
      "execution_count": 50,
      "outputs": []
    },
    {
      "cell_type": "code",
      "metadata": {
        "colab": {
          "base_uri": "https://localhost:8080/"
        },
        "id": "op5hqGlmYKco",
        "outputId": "3fe6e163-bcf8-4370-a166-632e9ed91a47"
      },
      "source": [
        "train_size = 0.8\n",
        "train_dataset = df.sample(frac=train_size, random_state=SEED)\n",
        "val_dataset = df.drop(train_dataset.index).reset_index(drop=True)\n",
        "train_dataset = train_dataset.reset_index(drop=True)\n",
        "\n",
        "print(f\"FULL Dataset: {df.shape}\")\n",
        "print(f\"TRAIN Dataset: {train_dataset.shape}\")\n",
        "print(f\"TEST Dataset: {val_dataset.shape}\")\n",
        "\n",
        "training_set = CustomDataset(\n",
        "    train_dataset, \n",
        "    tokenizer, \n",
        "    MAX_LEN, \n",
        "    SUMMARY_LEN\n",
        ")\n",
        "    \n",
        "val_set = CustomDataset(\n",
        "    val_dataset, \n",
        "    tokenizer, \n",
        "    MAX_LEN, \n",
        "    SUMMARY_LEN\n",
        ")"
      ],
      "execution_count": 51,
      "outputs": [
        {
          "output_type": "stream",
          "text": [
            "FULL Dataset: (4514, 2)\n",
            "TRAIN Dataset: (3611, 2)\n",
            "TEST Dataset: (903, 2)\n"
          ],
          "name": "stdout"
        }
      ]
    },
    {
      "cell_type": "code",
      "metadata": {
        "id": "YsU68Ms3YKs3"
      },
      "source": [
        "train_params = {\n",
        "    \"batch_size\": TRAIN_BATCH_SIZE,\n",
        "    \"shuffle\": True,\n",
        "    \"num_workers\": 0\n",
        "}\n",
        "\n",
        "val_params = {\n",
        "        \"batch_size\": VALID_BATCH_SIZE,\n",
        "        \"shuffle\": False,\n",
        "        \"num_workers\": 0\n",
        "}\n",
        "\n",
        "training_loader = DataLoader(\n",
        "    training_set, \n",
        "    **train_params\n",
        ")\n",
        "    \n",
        "val_loader = DataLoader(\n",
        "    val_set, \n",
        "    **val_params\n",
        ")"
      ],
      "execution_count": 52,
      "outputs": []
    },
    {
      "cell_type": "code",
      "metadata": {
        "colab": {
          "base_uri": "https://localhost:8080/"
        },
        "id": "4138UlkFB5Wr",
        "outputId": "6ad67312-8a7d-4319-b204-a9efc819ee6c"
      },
      "source": [
        "encoder = BertGenerationEncoder.from_pretrained(\"bert-base-uncased\")\n",
        "decoder = BertGenerationDecoder.from_pretrained(\"bert-base-uncased\")\n",
        "model = EncoderDecoderModel(encoder=encoder, decoder=decoder)\n",
        "model = model.to(device)"
      ],
      "execution_count": 53,
      "outputs": [
        {
          "output_type": "stream",
          "text": [
            "Some weights of the model checkpoint at bert-base-uncased were not used when initializing BertGenerationEncoder: ['bert.pooler.dense.weight', 'bert.pooler.dense.bias', 'bert.embeddings.token_type_embeddings.weight']\n",
            "- This IS expected if you are initializing BertGenerationEncoder from the checkpoint of a model trained on another task or with another architecture (e.g. initializing a BertForSequenceClassification model from a BertForPreTraining model).\n",
            "- This IS NOT expected if you are initializing BertGenerationEncoder from the checkpoint of a model that you expect to be exactly identical (initializing a BertForSequenceClassification model from a BertForSequenceClassification model).\n",
            "If you want to use `BertGenerationDecoder` as a standalone, add `is_decoder=True.`\n",
            "Some weights of the model checkpoint at bert-base-uncased were not used when initializing BertGenerationDecoder: ['cls.predictions.bias', 'cls.predictions.transform.dense.weight', 'cls.predictions.transform.dense.bias', 'cls.predictions.decoder.weight', 'cls.seq_relationship.weight', 'cls.seq_relationship.bias', 'cls.predictions.transform.LayerNorm.weight', 'cls.predictions.transform.LayerNorm.bias', 'bert.pooler.dense.weight', 'bert.pooler.dense.bias', 'bert.embeddings.token_type_embeddings.weight']\n",
            "- This IS expected if you are initializing BertGenerationDecoder from the checkpoint of a model trained on another task or with another architecture (e.g. initializing a BertForSequenceClassification model from a BertForPreTraining model).\n",
            "- This IS NOT expected if you are initializing BertGenerationDecoder from the checkpoint of a model that you expect to be exactly identical (initializing a BertForSequenceClassification model from a BertForSequenceClassification model).\n",
            "Some weights of BertGenerationDecoder were not initialized from the model checkpoint at bert-base-uncased and are newly initialized: ['lm_head.bias', 'lm_head.decoder.weight', 'lm_head.decoder.bias']\n",
            "You should probably TRAIN this model on a down-stream task to be able to use it for predictions and inference.\n"
          ],
          "name": "stderr"
        }
      ]
    },
    {
      "cell_type": "code",
      "metadata": {
        "id": "yWN-W_EyB5ZL"
      },
      "source": [
        "optimizer = torch.optim.Adam(\n",
        "    params=model.parameters(), \n",
        "    lr=LEARNING_RATE,\n",
        ")"
      ],
      "execution_count": 54,
      "outputs": []
    },
    {
      "cell_type": "code",
      "metadata": {
        "colab": {
          "base_uri": "https://localhost:8080/"
        },
        "id": "OrnXWgMkB5eC",
        "outputId": "cd7587e0-a8df-48f9-f37b-e4ae90d638fa"
      },
      "source": [
        "for epoch in range(TRAIN_EPOCHS):\n",
        "    model.train()\n",
        "    for _,data in enumerate(training_loader, 0):\n",
        "        y = data[\"target_ids\"].to(device, dtype = torch.long)\n",
        "        y_ids = y[:, :-1].contiguous()\n",
        "        lm_labels = y[:, 1:].clone().detach()\n",
        "        lm_labels[y[:, 1:] == tokenizer.pad_token_id] = -100\n",
        "        ids = data[\"source_ids\"].to(device, dtype=torch.long)\n",
        "        mask = data[\"source_mask\"].to(device, dtype=torch.long)\n",
        "\n",
        "        outputs = model(\n",
        "            input_ids=ids, \n",
        "            attention_mask=mask, \n",
        "            decoder_input_ids=y_ids, \n",
        "            labels=lm_labels,\n",
        "        )\n",
        "        loss = outputs[0]\n",
        "        \n",
        "        if _%500==0:\n",
        "            print(f'Epoch: {epoch}, Loss:  {loss.item()}')\n",
        "        \n",
        "        optimizer.zero_grad()\n",
        "        loss.backward()\n",
        "        optimizer.step()"
      ],
      "execution_count": 55,
      "outputs": [
        {
          "output_type": "stream",
          "text": [
            "/usr/local/lib/python3.6/dist-packages/transformers/tokenization_utils_base.py:2179: FutureWarning: The `pad_to_max_length` argument is deprecated and will be removed in a future version, use `padding=True` or `padding='longest'` to pad to the longest sequence in the batch, or use `padding='max_length'` to pad to a max length. In this case, you can give a specific length with `max_length` (e.g. `max_length=45`) or leave max_length to None to pad to the maximal input size of the model (e.g. 512 for Bert).\n",
            "  FutureWarning,\n"
          ],
          "name": "stderr"
        },
        {
          "output_type": "stream",
          "text": [
            "Epoch: 0, Loss:  9.649497985839844\n",
            "Epoch: 0, Loss:  7.181732177734375\n",
            "Epoch: 0, Loss:  7.296773433685303\n",
            "Epoch: 0, Loss:  7.359935760498047\n",
            "Epoch: 1, Loss:  6.571008205413818\n",
            "Epoch: 1, Loss:  6.389883518218994\n",
            "Epoch: 1, Loss:  6.820432186126709\n",
            "Epoch: 1, Loss:  6.172169208526611\n"
          ],
          "name": "stdout"
        }
      ]
    },
    {
      "cell_type": "code",
      "metadata": {
        "colab": {
          "base_uri": "https://localhost:8080/"
        },
        "id": "QbxcoHuTB5g8",
        "outputId": "24be71e1-f1fa-49e0-9da6-374e48ec30c9"
      },
      "source": [
        "for epoch in range(VAL_EPOCHS):\n",
        "    model.eval()\n",
        "    predictions = []\n",
        "    actuals = []\n",
        "    with torch.no_grad():\n",
        "        for _, data in enumerate(val_loader, 0):\n",
        "            y = data[\"target_ids\"].to(device, dtype=torch.long)\n",
        "            ids = data[\"source_ids\"].to(device, dtype=torch.long)\n",
        "            mask = data[\"source_mask\"].to(device, dtype=torch.long)\n",
        "\n",
        "            generated_ids = model.generate(\n",
        "                input_ids=ids,\n",
        "                attention_mask=mask, \n",
        "                max_length=150, \n",
        "                num_beams=2,\n",
        "                repetition_penalty=2.5, \n",
        "                length_penalty=1.0, \n",
        "                early_stopping=True\n",
        "                )\n",
        "            preds = [tokenizer.decode(g, skip_special_tokens=True, clean_up_tokenization_spaces=True) for g in generated_ids]\n",
        "            target = [tokenizer.decode(t, skip_special_tokens=True, clean_up_tokenization_spaces=True)for t in y]\n",
        "            \n",
        "            if _%100==0:\n",
        "                print(f\"Completed {_}\")\n",
        "\n",
        "            predictions.extend(preds)\n",
        "            actuals.extend(target)"
      ],
      "execution_count": 57,
      "outputs": [
        {
          "output_type": "stream",
          "text": [
            "/usr/local/lib/python3.6/dist-packages/transformers/tokenization_utils_base.py:2179: FutureWarning: The `pad_to_max_length` argument is deprecated and will be removed in a future version, use `padding=True` or `padding='longest'` to pad to the longest sequence in the batch, or use `padding='max_length'` to pad to a max length. In this case, you can give a specific length with `max_length` (e.g. `max_length=45`) or leave max_length to None to pad to the maximal input size of the model (e.g. 512 for Bert).\n",
            "  FutureWarning,\n"
          ],
          "name": "stderr"
        },
        {
          "output_type": "stream",
          "text": [
            "Completed 0\n",
            "Completed 100\n",
            "Completed 200\n",
            "Completed 300\n",
            "Completed 400\n"
          ],
          "name": "stdout"
        }
      ]
    },
    {
      "cell_type": "code",
      "metadata": {
        "colab": {
          "base_uri": "https://localhost:8080/",
          "height": 204
        },
        "id": "LzEypYB6P_BC",
        "outputId": "8e1ad974-b8ad-40cc-8508-dbfb1fe2cd6c"
      },
      "source": [
        "final_df = pd.DataFrame(\n",
        "    {\n",
        "        \"Generated Text\": predictions,\n",
        "        \"Actual Text\": actuals,\n",
        "    }\n",
        ")\n",
        "final_df.to_csv(\"predictions.csv\")\n",
        "final_df.head()"
      ],
      "execution_count": 58,
      "outputs": [
        {
          "output_type": "execute_result",
          "data": {
            "text/html": [
              "<div>\n",
              "<style scoped>\n",
              "    .dataframe tbody tr th:only-of-type {\n",
              "        vertical-align: middle;\n",
              "    }\n",
              "\n",
              "    .dataframe tbody tr th {\n",
              "        vertical-align: top;\n",
              "    }\n",
              "\n",
              "    .dataframe thead th {\n",
              "        text-align: right;\n",
              "    }\n",
              "</style>\n",
              "<table border=\"1\" class=\"dataframe\">\n",
              "  <thead>\n",
              "    <tr style=\"text-align: right;\">\n",
              "      <th></th>\n",
              "      <th>Generated Text</th>\n",
              "      <th>Actual Text</th>\n",
              "    </tr>\n",
              "  </thead>\n",
              "  <tbody>\n",
              "    <tr>\n",
              "      <th>0</th>\n",
              "      <td>[unused1] supreme on said the court s has a of...</td>\n",
              "      <td>hotels in maharashtra will train their staff t...</td>\n",
              "    </tr>\n",
              "    <tr>\n",
              "      <th>1</th>\n",
              "      <td>[unused1] supreme on said the court s has a of...</td>\n",
              "      <td>the congress party has opened a bank called'st...</td>\n",
              "    </tr>\n",
              "    <tr>\n",
              "      <th>2</th>\n",
              "      <td>[unused1] supreme on said the court s has a of...</td>\n",
              "      <td>tanveer hussain, a 24 - year - old indian athl...</td>\n",
              "    </tr>\n",
              "    <tr>\n",
              "      <th>3</th>\n",
              "      <td>[unused1] supreme on said the court s has a of...</td>\n",
              "      <td>the remains of a german hiker, who disappeared...</td>\n",
              "    </tr>\n",
              "    <tr>\n",
              "      <th>4</th>\n",
              "      <td>[unused1] supreme on said the court s has a of...</td>\n",
              "      <td>a uk - based doctor, manish shah, has been cha...</td>\n",
              "    </tr>\n",
              "  </tbody>\n",
              "</table>\n",
              "</div>"
            ],
            "text/plain": [
              "                                      Generated Text                                        Actual Text\n",
              "0  [unused1] supreme on said the court s has a of...  hotels in maharashtra will train their staff t...\n",
              "1  [unused1] supreme on said the court s has a of...  the congress party has opened a bank called'st...\n",
              "2  [unused1] supreme on said the court s has a of...  tanveer hussain, a 24 - year - old indian athl...\n",
              "3  [unused1] supreme on said the court s has a of...  the remains of a german hiker, who disappeared...\n",
              "4  [unused1] supreme on said the court s has a of...  a uk - based doctor, manish shah, has been cha..."
            ]
          },
          "metadata": {
            "tags": []
          },
          "execution_count": 58
        }
      ]
    },
    {
      "cell_type": "code",
      "metadata": {
        "id": "o9eGdZwEgMcL"
      },
      "source": [
        ""
      ],
      "execution_count": null,
      "outputs": []
    }
  ]
}